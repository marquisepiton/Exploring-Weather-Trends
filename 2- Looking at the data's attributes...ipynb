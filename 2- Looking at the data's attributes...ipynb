{
 "cells": [
  {
   "cell_type": "markdown",
   "metadata": {},
   "source": [
    "# 2nd Step: looking at the dataframes attributes"
   ]
  },
  {
   "cell_type": "markdown",
   "metadata": {},
   "source": [
    "##  I wanted to take a look at the datasets attributes (Ex. mean, median, Standard Standard Deviation). To get this information, I will use the pandas library. "
   ]
  },
  {
   "cell_type": "code",
   "execution_count": null,
   "metadata": {},
   "outputs": [],
   "source": [
    "#importing the pandas library\n",
    "import pandas as pd"
   ]
  },
  {
   "cell_type": "code",
   "execution_count": null,
   "metadata": {},
   "outputs": [],
   "source": [
    "#This if just for naming purposes and just trying to get more practice with my python.\n",
    "#Just having fun with my code!\n",
    "names = ['city_data', 'city_list', 'global_data']\n",
    "\n",
    "\n",
    "# Create dataframes for all three of the csv file we extracted.\n",
    "# converting city_data into a pandas dataframe\n",
    "city_data_df = pd.read_csv('city_data.csv')\n",
    "# Check if it works\n",
    "#This is to be able to see the whole dataframe\n",
    "pd.set_option(\"display.max_rows\", None, \"display.max_columns\", None)\n",
    "city_data_df"
   ]
  },
  {
   "cell_type": "code",
   "execution_count": null,
   "metadata": {},
   "outputs": [],
   "source": [
    "#converting city_list into a pandas dataframe\n",
    "city_list_df = pd.read_csv('city_list.csv')\n",
    "# Checking if it works\n",
    "city_list_df.head()"
   ]
  },
  {
   "cell_type": "code",
   "execution_count": null,
   "metadata": {},
   "outputs": [],
   "source": [
    "#converting city_list into a pandas dataframe\n",
    "global_data_df = pd.read_csv('global_data.csv')\n",
    "# Checking if it works\n",
    "global_data_df.head()"
   ]
  },
  {
   "cell_type": "markdown",
   "metadata": {},
   "source": [
    "## Now that all three files are loaded as dataframes, Lets look at the attributes of each of the them."
   ]
  },
  {
   "cell_type": "code",
   "execution_count": null,
   "metadata": {},
   "outputs": [],
   "source": [
    "# Show information out each the columns and the shape for city_data\n",
    "city_data_df.info()\n",
    "city_data_df.shape"
   ]
  },
  {
   "cell_type": "code",
   "execution_count": null,
   "metadata": {},
   "outputs": [],
   "source": [
    "# Show information out each the columns and the shape for city_list\n",
    "city_list_df.info()\n",
    "city_list_df.shape"
   ]
  },
  {
   "cell_type": "code",
   "execution_count": null,
   "metadata": {},
   "outputs": [],
   "source": [
    "# Show information out each the columns and the shape for global_data\n",
    "global_data_df.info()\n",
    "global_data_df.shape"
   ]
  },
  {
   "cell_type": "markdown",
   "metadata": {},
   "source": [
    "## Now a statistical summary of each of the dataframes"
   ]
  },
  {
   "cell_type": "code",
   "execution_count": null,
   "metadata": {},
   "outputs": [],
   "source": [
    "print('Statistical Summary of {}'.format(names[0]))\n",
    "city_data_df.describe()"
   ]
  },
  {
   "cell_type": "code",
   "execution_count": null,
   "metadata": {},
   "outputs": [],
   "source": [
    "print('Statistical Summary of {}'.format(names[1]))\n",
    "city_list_df.describe()"
   ]
  },
  {
   "cell_type": "code",
   "execution_count": null,
   "metadata": {},
   "outputs": [],
   "source": [
    "print('Statistical Summary of {}'.format(names[2]))\n",
    "global_data_df.describe()"
   ]
  },
  {
   "cell_type": "markdown",
   "metadata": {},
   "source": [
    "## Now that I have very useful information, Let's analyzing it bit more."
   ]
  },
  {
   "cell_type": "code",
   "execution_count": null,
   "metadata": {},
   "outputs": [],
   "source": []
  }
 ],
 "metadata": {
  "kernelspec": {
   "display_name": "Python 3",
   "language": "python",
   "name": "python3"
  },
  "language_info": {
   "codemirror_mode": {
    "name": "ipython",
    "version": 3
   },
   "file_extension": ".py",
   "mimetype": "text/x-python",
   "name": "python",
   "nbconvert_exporter": "python",
   "pygments_lexer": "ipython3",
   "version": "3.8.3"
  }
 },
 "nbformat": 4,
 "nbformat_minor": 4
}
